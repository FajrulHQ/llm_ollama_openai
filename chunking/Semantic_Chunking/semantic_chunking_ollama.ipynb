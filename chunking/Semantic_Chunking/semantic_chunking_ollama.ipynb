{
 "cells": [
  {
   "cell_type": "code",
   "execution_count": 7,
   "metadata": {},
   "outputs": [
    {
     "name": "stdout",
     "output_type": "stream",
     "text": [
      "Hasil telah disimpan dalam output_chunks.txt\n"
     ]
    }
   ],
   "source": [
    "import fitz  # PyMuPDF\n",
    "import re\n",
    "import ollama\n",
    "\n",
    "def read_pdf(file_path):\n",
    "    \"\"\"Membaca teks dari file PDF.\"\"\"\n",
    "    doc = fitz.open(file_path)\n",
    "    text = \"\\n\".join([page.get_text(\"text\") for page in doc])\n",
    "    return text\n",
    "\n",
    "def clean_text(text):\n",
    "    \"\"\"Membersihkan teks dari karakter khusus, spasi berlebih, dan format yang tidak diperlukan.\"\"\"\n",
    "    text = re.sub(r'\\n+', '\\n', text)  # Menghapus newline berlebih\n",
    "    text = re.sub(r'[^a-zA-Z0-9.,\\n ]+', '', text)  # Menghapus karakter khusus\n",
    "    text = re.sub(r' +', ' ', text)  # Menghapus spasi berlebih\n",
    "    return text.strip()\n",
    "\n",
    "def chunk_text_semantic(text, chunk_size=1000):\n",
    "    \"\"\"Membagi teks menjadi chunk lebih kecil dan memproses setiap chunk dengan model Llama.\"\"\"\n",
    "    # Membagi teks menjadi chunk lebih kecil berdasarkan ukuran karakter\n",
    "    chunks = [text[i:i + chunk_size] for i in range(0, len(text), chunk_size)]\n",
    "    \n",
    "    # Memproses setiap chunk menggunakan Llama untuk chunking semantik\n",
    "    semantic_chunks = []\n",
    "    for chunk in chunks:\n",
    "        response = ollama.chat(model='llama3.2', messages=[{\n",
    "            \"role\": \"user\", \n",
    "            \"content\": f\"Please divide this text into meaningful semantic chunks:\\n\\n{chunk}\"\n",
    "        }])\n",
    "        semantic_chunks.append(response['message']['content'])\n",
    "    \n",
    "    return semantic_chunks\n",
    "\n",
    "def save_to_txt(filename, results):\n",
    "    \"\"\"Menyimpan hasil ke file .txt.\"\"\"\n",
    "    with open(filename, \"w\", encoding=\"utf-8\") as f:\n",
    "        for i, res in enumerate(results):\n",
    "            f.write(f\"Chunk {i+1}:\\n{res}\\n\\n\")\n",
    "\n",
    "# Path ke file PDF\n",
    "pdf_path = \"Draft TKO Pengelolaan Akun Aplikasi.pdf\"\n",
    "output_txt = \"output_chunks.txt\"\n",
    "\n",
    "# Membaca, membersihkan, dan membagi teks\n",
    "raw_text = read_pdf(pdf_path)\n",
    "cleaned_text = clean_text(raw_text)\n",
    "\n",
    "# Menggunakan Llama 3.2 untuk chunking semantik\n",
    "semantic_chunks = chunk_text_semantic(cleaned_text)\n",
    "\n",
    "# Menyimpan output ke file .txt\n",
    "save_to_txt(output_txt, semantic_chunks)\n",
    "\n",
    "print(f\"Hasil telah disimpan dalam {output_txt}\")"
   ]
  }
 ],
 "metadata": {
  "kernelspec": {
   "display_name": "venv",
   "language": "python",
   "name": "python3"
  },
  "language_info": {
   "codemirror_mode": {
    "name": "ipython",
    "version": 3
   },
   "file_extension": ".py",
   "mimetype": "text/x-python",
   "name": "python",
   "nbconvert_exporter": "python",
   "pygments_lexer": "ipython3",
   "version": "3.10.16"
  }
 },
 "nbformat": 4,
 "nbformat_minor": 2
}
