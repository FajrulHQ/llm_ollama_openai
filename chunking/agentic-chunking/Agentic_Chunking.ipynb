{
 "cells": [
  {
   "cell_type": "markdown",
   "metadata": {},
   "source": [
    "PROCESS DOCUMENT"
   ]
  },
  {
   "cell_type": "code",
   "execution_count": 127,
   "metadata": {},
   "outputs": [
    {
     "name": "stdout",
     "output_type": "stream",
     "text": [
      "Total chunks generated: 12 for Dokumen (1).pdf\n",
      "Proses chunking selesai. Hasilnya disimpan dalam folder 'chunked_data'.\n"
     ]
    }
   ],
   "source": [
    "import os\n",
    "from IPython.display import Markdown\n",
    "from phi.agent import Agent\n",
    "from phi.model.ollama import Ollama\n",
    "from langchain.embeddings import HuggingFaceEmbeddings\n",
    "from langchain.vectorstores import FAISS\n",
    "from langchain.text_splitter import RecursiveCharacterTextSplitter\n",
    "from langchain_core.documents import Document\n",
    "from utils.document_processor import DocumentProcessor  \n",
    "\n",
    "# Inisialisasi path dan model\n",
    "DATA_PATH = \"./data\"\n",
    "INDEX_PATH = \"faiss_index\"\n",
    "CHUNKED_DATA_PATH = \"./chunked_data\"  # Folder untuk menyimpan hasil chunking\n",
    "OLLAMA_MODEL = \"llama3.2\"\n",
    "\n",
    "# Pastikan folder tersedia\n",
    "os.makedirs(CHUNKED_DATA_PATH, exist_ok=True)\n",
    "\n",
    "# Inisialisasi model Ollama\n",
    "llm = Ollama(id=OLLAMA_MODEL)\n",
    "\n",
    "# Inisialisasi embedding model menggunakan HuggingFace\n",
    "embedding_model = HuggingFaceEmbeddings(model_name=\"all-MiniLM-L6-v2\")\n",
    "\n",
    "# Inisialisasi document processor untuk ekstraksi teks\n",
    "docs = DocumentProcessor()\n",
    "\n",
    "# Fungsi untuk chunking teks secara efisien\n",
    "def chunk_text(text: str):\n",
    "    text_splitter = RecursiveCharacterTextSplitter(\n",
    "    chunk_size=1000, chunk_overlap=200, length_function=len, separators=[\"\\n\\n\", \"\\n\", \" \"]\n",
    ")\n",
    "    return text_splitter.split_text(text)\n",
    "\n",
    "# Inisialisasi Agent dengan model Ollama\n",
    "agent = Agent(model=llm, show_tool_calls=True, markdown=True)\n",
    "\n",
    "# Langkah 1: Proses dokumen dengan agentic chunking\n",
    "extracted_docs = []\n",
    "for filename in os.listdir(DATA_PATH):\n",
    "    valid_extensions = ('.pdf', '.docx', '.txt')\n",
    "    if not filename.lower().endswith(valid_extensions):\n",
    "        continue\n",
    "\n",
    "    filepath = os.path.join(DATA_PATH, filename)\n",
    "\n",
    "    try:\n",
    "        # Gunakan DocumentProcessor untuk membaca file\n",
    "        with open(filepath, \"rb\") as f:\n",
    "            document = f.read()\n",
    "            result = docs.process_document(document, filename)\n",
    "\n",
    "        if result is None:\n",
    "            print(f\"Gagal memproses {filename}, melewati file ini.\")\n",
    "            continue\n",
    "\n",
    "        plain_text = result[3]  # Pastikan indeks benar\n",
    "\n",
    "        # Gunakan agent untuk memastikan chunking lebih semantik\n",
    "        response = agent.run(\n",
    "            f\"Organize the following text into well-structured segments:\\n{plain_text}\",\n",
    "            max_tokens=4000  # Atur sesuai dengan batas model\n",
    "        )\n",
    "\n",
    "        # Proses hasil agen dengan chunking tambahan\n",
    "        chunks = chunk_text(str(response))  \n",
    "\n",
    "        # Simpan hasil chunking dalam list\n",
    "        extracted_docs.extend([{\"text\": chunk, \"metadata\": {\"filename\": filename}} for chunk in chunks])\n",
    "\n",
    "        # Simpan hasil chunking dalam file txt\n",
    "        chunked_filepath = os.path.join(CHUNKED_DATA_PATH, f\"chunked_{filename}.txt\")\n",
    "        with open(chunked_filepath, \"w\", encoding=\"utf-8\") as chunked_file:\n",
    "            for i, chunk in enumerate(chunks, 1):\n",
    "                chunked_file.write(f\"Chunk {i}:\\n{chunk}\\n\\n\")\n",
    "\n",
    "    except Exception as e:\n",
    "        print(f\"Error processing {filename}: {e}\")\n",
    "\n",
    "# Simpan hasil chunking sebagai objek Document\n",
    "documents = [Document(page_content=doc[\"text\"], metadata=doc[\"metadata\"]) for doc in extracted_docs]\n",
    "\n",
    "# Simpan ke FAISS secara lokal\n",
    "vector_store = FAISS.from_documents(documents, embedding_model)\n",
    "vector_store.save_local(INDEX_PATH)\n",
    "\n",
    "\n",
    "print(f\"Total chunks generated: {len(chunks)} for {filename}\")\n",
    "print(\"Proses chunking selesai. Hasilnya disimpan dalam folder 'chunked_data'.\")\n"
   ]
  },
  {
   "cell_type": "code",
   "execution_count": 128,
   "metadata": {},
   "outputs": [],
   "source": [
    "# Query dengan RAG\n",
    "query = \"Apa isi dokumen tentang topik X?\"\n",
    "query_embedding = embedding_model.embed_query(query)\n",
    "retrieved_docs = vector_store.similarity_search_by_vector(query_embedding, k=3)\n",
    "\n",
    "# Gabungkan dokumen hasil pencarian untuk input ke model\n",
    "retrieved_text = \"\\n\\n\".join([doc.page_content for doc in retrieved_docs])"
   ]
  },
  {
   "cell_type": "markdown",
   "metadata": {},
   "source": [
    "TEST OLLAMA MODEL"
   ]
  },
  {
   "cell_type": "code",
   "execution_count": 129,
   "metadata": {},
   "outputs": [],
   "source": [
    "from langchain_core.prompts import ChatPromptTemplate\n",
    "from langchain_ollama.llms import OllamaLLM"
   ]
  },
  {
   "cell_type": "code",
   "execution_count": 130,
   "metadata": {},
   "outputs": [],
   "source": [
    "OLLAMA_MODEL = \"llama3.2\"\n",
    "COLLECTION_NAME = \"ollama_vectore_test\""
   ]
  },
  {
   "cell_type": "code",
   "execution_count": 131,
   "metadata": {},
   "outputs": [
    {
     "data": {
      "text/markdown": [
       "Berikut ringkasan dari dokumen tersebut:\n",
       "\n",
       "PT Pertamina (Persero) atau \"PERTAMINA\" memiliki sejarah yang panjang dimulai pada tahun 1950-an. PERTAMINA dipimpin oleh PT Eksploitasi Tambang Minyak Sumatera Utara, kemudian menjadi Perusahaan Minyak Nasional (PERMINA), dan setelah itu menjadi Perusahaan Negara (PN) dengan nama PN Pertambangan Minyak Nasional (Permina). Pada tahun 1968, PN Permina bergabung dengan PN Pertamin sehingga terbentuk PN Pertambangan Minyak dan Gas Bumi Negara (Pertamina).\n",
       "\n",
       "Dalam beberapa tahun kemudian, PERTAMINA mengalami perubahan nama menjadi Perusahaan Pertambangan Minyak dan Gas Bumi Negara, kemudian menjadi PT Pertamina (Persero) pada tahun 2003. Pada tahun 2007, PERTAMINA mengubah visinya menjadi \"Menjadi Perusahaan Minyak Nasional Kelas Dunia\", kemudian pada tahun 2011 menjadi \"Menjadi Perusahaan Energi Nasional Kelas Dunia\".\n",
       "\n",
       "PERTAMINA telah mencapai beberapa keberhasilan, seperti menuntaskan akuisisi saham perusahaan migas Prancis Maurel et Prom (M&P) di tahun 2017 dan mengakuisi 51% saham PT Pertamina Gas (Pertagas) oleh PT Perusahaan Gas Negara (PGN) pada tahun 2018.\n",
       "\n",
       "Dalam beberapa tahun terakhir, PERTAMINA telah melakukan restrukturisasi pembentukan subholding, yang dimulai dari pembentukan Subholding Gas pada tahun 2018 dan diselesaikan pada tanggal 1 September 2021. Dengan demikian, PERTAMINA dapat lebih fokus untuk mewujudkan kedaulatan energi bagi Indonesia dengan senantiasa menggaungkan semangat \"One Energy, One Pertamina\"."
      ],
      "text/plain": [
       "<IPython.core.display.Markdown object>"
      ]
     },
     "execution_count": 131,
     "metadata": {},
     "output_type": "execute_result"
    }
   ],
   "source": [
    "template = \"\"\"\n",
    "  Anda adalah asisten yang membantu dalam meringkas teks.  \n",
    "  Hanya sertakan informasi yang ada dalam dokumen.  \n",
    "  Jangan tambahkan opini atau analisis Anda sendiri.  \n",
    "\n",
    "  Dokumen:  \n",
    "  \"{document}\"  \n",
    "  Ringkasan:  \n",
    "\"\"\"\n",
    "\n",
    "prompt = ChatPromptTemplate.from_template(template)\n",
    "\n",
    "model = OllamaLLM(model=OLLAMA_MODEL)\n",
    "\n",
    "chain = prompt | model\n",
    "\n",
    "response = chain.invoke({\"document\": plain_text})\n",
    "Markdown(response)\n"
   ]
  },
  {
   "cell_type": "markdown",
   "metadata": {},
   "source": [
    "TEST OPENAI MODEL"
   ]
  },
  {
   "cell_type": "code",
   "execution_count": 132,
   "metadata": {},
   "outputs": [
    {
     "data": {
      "text/markdown": [
       "PT Pertamina is an energy company established by the Indonesian government in the 1950s, initially managing oil fields in Sumatra. Over the years, the company has undergone several name and status changes, becoming a state-owned enterprise and officially adopting the name PT Pertamina in 2003. In recent years, PT Pertamina has worked towards realizing its vision of becoming a world-class energy company. In 2017, PT Pertamina acquired a 72.65% stake in French oil company Maurel et Prom, giving it a presence in 12 countries across four continents. Additionally, in 2018, PT Pertamina's subsidiary, Pertamina Gas, was acquired by state-owned company Perusahaan Gas Negara, further solidifying PT Pertamina's position as a leading entity in Indonesia's energy sector. The formation of several sub-holdings in 2020 and 2021 aims to further sharpen PT Pertamina's focus to achieve energy sovereignty for Indonesia."
      ],
      "text/plain": [
       "<IPython.core.display.Markdown object>"
      ]
     },
     "execution_count": 132,
     "metadata": {},
     "output_type": "execute_result"
    }
   ],
   "source": [
    "from dotenv import load_dotenv\n",
    "import os\n",
    "import openai\n",
    "load_dotenv()\n",
    "\n",
    "openai.api_type = os.getenv(\"OPENAI_API_TYPE\")\n",
    "openai.api_base = os.getenv(\"OPENAI_API_BASE\")\n",
    "openai.api_version = os.getenv(\"OPENAI_API_VERSION\")\n",
    "openai.api_key = os.getenv(\"OPENAI_API_KEY\")\n",
    "\n",
    "model = \"gpt-35-turbo\"\n",
    "response = openai.ChatCompletion.create(\n",
    "  engine=model,\n",
    "  messages=[\n",
    "    {\n",
    "      \"role\": \"system\", \n",
    "      \"content\": \"\"\"\n",
    "        You are a helpful assistant for text summarization.\n",
    "        Only include information that is part of the document. \n",
    "        Do not include your own opinion or analysis.\n",
    "      \"\"\"\n",
    "    },\n",
    "    {\n",
    "      \"role\": \"user\",\n",
    "      \"content\": plain_text\n",
    "    }\n",
    "  ],\n",
    ")\n",
    "\n",
    "Markdown(response.choices[0].message.content)"
   ]
  }
 ],
 "metadata": {
  "kernelspec": {
   "display_name": "Python 3",
   "language": "python",
   "name": "python3"
  },
  "language_info": {
   "codemirror_mode": {
    "name": "ipython",
    "version": 3
   },
   "file_extension": ".py",
   "mimetype": "text/x-python",
   "name": "python",
   "nbconvert_exporter": "python",
   "pygments_lexer": "ipython3",
   "version": "3.12.8"
  }
 },
 "nbformat": 4,
 "nbformat_minor": 2
}
