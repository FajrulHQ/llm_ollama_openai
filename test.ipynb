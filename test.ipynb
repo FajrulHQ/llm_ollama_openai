{
 "cells": [
  {
   "cell_type": "markdown",
   "metadata": {},
   "source": [
    "PROCESS DOCUMENT"
   ]
  },
  {
   "cell_type": "code",
   "execution_count": 6,
   "metadata": {},
   "outputs": [],
   "source": [
    "from IPython.display import Markdown\n",
    "from utils.document_processor import DocumentProcessor\n",
    "import os\n",
    "\n",
    "docs = DocumentProcessor()\n",
    "\n",
    "DATA_PATH = \"./data\"\n",
    "extracted_docs = []\n",
    "for filename in os.listdir(DATA_PATH):\n",
    "  filepath = os.path.join(DATA_PATH, filename)\n",
    "  with open(filepath, \"rb\") as f:\n",
    "    document = f.read()\n",
    "    result = docs.process_document(document, filename)\n",
    "    extracted_docs.append(result)\n",
    "    \n",
    "content, images, tables, plain_text = extracted_docs[0] #1st file\n"
   ]
  },
  {
   "cell_type": "markdown",
   "metadata": {},
   "source": [
    "TEST OLLAMA MODEL"
   ]
  },
  {
   "cell_type": "code",
   "execution_count": 7,
   "metadata": {},
   "outputs": [],
   "source": [
    "from langchain_core.prompts import ChatPromptTemplate\n",
    "from langchain_ollama.llms import OllamaLLM"
   ]
  },
  {
   "cell_type": "code",
   "execution_count": 8,
   "metadata": {},
   "outputs": [],
   "source": [
    "OLLAMA_MODEL = \"llama3.2\"\n",
    "COLLECTION_NAME = \"ollama_vectore_test\""
   ]
  },
  {
   "cell_type": "code",
   "execution_count": 9,
   "metadata": {},
   "outputs": [
    {
     "data": {
      "text/markdown": [
       "Here is a summary of the document:\n",
       "\n",
       "The person is Muhammad Fajrul Haqqi, a software developer with a Master's degree in Artificial Intelligence. He has experience as a full stack developer, chief technology officer, and data scientist at various companies and institutions.\n",
       "\n",
       "He has worked on several projects, including developing a frontend technology standard for HIS 2.0 using NextJS, building the tech infrastructure standard for Fellas.id, and creating a cloud-based AI system to predict petrophysical data from fields.\n",
       "\n",
       "He has won several awards, including the Riau Government Scholarship, Digital Forum 2022, and DELFI Data Science Hackathon. He has also presented his research at international conferences and events, such as the International Energy Summit (IES) and the Digital Forum 2022.\n",
       "\n",
       "Some of his technical skills include Django REST Framework, React JS, Next JS, FAST API, Cloud SQL, Machine Learning, Deep Learning, Google App Engine, and Google Kubernetes Engine. He is fluent in English (B2 Upper-Intermediate) and has native proficiency in Indonesian."
      ],
      "text/plain": [
       "<IPython.core.display.Markdown object>"
      ]
     },
     "execution_count": 9,
     "metadata": {},
     "output_type": "execute_result"
    }
   ],
   "source": [
    "template = \"\"\"\n",
    "  You are a helpful assistant for text summarization. \n",
    "  Only include information that is part of the document. \n",
    "  Do not include your own opinion or analysis.\n",
    "\n",
    "  Document: \n",
    "  \"{document}\"\n",
    "  Summary:\n",
    "\"\"\"\n",
    "\n",
    "prompt = ChatPromptTemplate.from_template(template)\n",
    "\n",
    "model = OllamaLLM(model=OLLAMA_MODEL)\n",
    "\n",
    "chain = prompt | model\n",
    "\n",
    "response = chain.invoke({\"document\": plain_text})\n",
    "Markdown(response)\n"
   ]
  },
  {
   "cell_type": "markdown",
   "metadata": {},
   "source": [
    "TEST OPENAI MODEL"
   ]
  },
  {
   "cell_type": "code",
   "execution_count": 11,
   "metadata": {},
   "outputs": [
    {
     "data": {
      "text/markdown": [
       "The document is a resume belonging to Muhammad Fajrul Haqqi, a software developer from Indonesia. Fajrul has a Master's degree in Artificial Intelligence and has worked in various job positions, such as full-stack developer, CTO, software developer, tech intern, and data science intern. He has had a project management role and taken responsibility to create technology standards in his previous workplaces. Fajrul has won various awards and has participated and won competitions both nationally and internationally. Additionally, he has received several scholarships, including the Riau Government Scholarship for his Bachelor and Master's degrees. As for technical skills, Fajrul has experience working with various technologies such as Django REST Framework, React JS, Next JS, FAST API, Cloud SQL, Data Analyst, Machine Learning, and Deep Learning."
      ],
      "text/plain": [
       "<IPython.core.display.Markdown object>"
      ]
     },
     "execution_count": 11,
     "metadata": {},
     "output_type": "execute_result"
    }
   ],
   "source": [
    "from dotenv import load_dotenv\n",
    "import os\n",
    "import openai\n",
    "load_dotenv()\n",
    "\n",
    "openai.api_type = os.getenv(\"OPENAI_API_TYPE\")\n",
    "openai.api_base = os.getenv(\"OPENAI_API_BASE\")\n",
    "openai.api_version = os.getenv(\"OPENAI_API_VERSION\")\n",
    "openai.api_key = os.getenv(\"OPENAI_API_KEY\")\n",
    "\n",
    "model = \"gpt-35-turbo\"\n",
    "response = openai.ChatCompletion.create(\n",
    "  engine=model,\n",
    "  messages=[\n",
    "    {\n",
    "      \"role\": \"system\", \n",
    "      \"content\": \"\"\"\n",
    "        You are a helpful assistant for text summarization.\n",
    "        Only include information that is part of the document. \n",
    "        Do not include your own opinion or analysis.\n",
    "      \"\"\"\n",
    "    },\n",
    "    {\n",
    "      \"role\": \"user\",\n",
    "      \"content\": plain_text\n",
    "    }\n",
    "  ],\n",
    ")\n",
    "\n",
    "Markdown(response.choices[0].message.content)\n",
    "\n"
   ]
  },
  {
   "cell_type": "code",
   "execution_count": null,
   "metadata": {},
   "outputs": [],
   "source": []
  }
 ],
 "metadata": {
  "kernelspec": {
   "display_name": ".venv",
   "language": "python",
   "name": "python3"
  },
  "language_info": {
   "codemirror_mode": {
    "name": "ipython",
    "version": 3
   },
   "file_extension": ".py",
   "mimetype": "text/x-python",
   "name": "python",
   "nbconvert_exporter": "python",
   "pygments_lexer": "ipython3",
   "version": "3.11.5"
  }
 },
 "nbformat": 4,
 "nbformat_minor": 2
}
