{
 "cells": [
  {
   "cell_type": "markdown",
   "metadata": {},
   "source": [
    "IMPORTING LIBRARIES"
   ]
  },
  {
   "cell_type": "code",
   "execution_count": 1,
   "metadata": {},
   "outputs": [],
   "source": [
    "import os\n",
    "import shutil\n",
    "import numpy as np\n",
    "import networkx as nx\n",
    "from langchain_chroma import Chroma\n",
    "from langchain_huggingface import HuggingFaceEmbeddings\n",
    "from langchain.document_loaders.pdf import PyPDFDirectoryLoader\n",
    "from langchain_text_splitters import RecursiveCharacterTextSplitter\n",
    "from langchain.schema.document import Document\n",
    "from langchain_ollama.llms import OllamaLLM\n",
    "from IPython.display import display, Markdown"
   ]
  },
  {
   "cell_type": "markdown",
   "metadata": {},
   "source": [
    "MODEL CONFIGURATION"
   ]
  },
  {
   "cell_type": "code",
   "execution_count": 2,
   "metadata": {},
   "outputs": [],
   "source": [
    "CHROMA_PATH = \"chroma\"\n",
    "DATA_PATH = \"./data\"\n",
    "OLLAMA_MODEL = \"llama3.2\"\n",
    "COLLECTION_NAME = \"ollama_vector_test\"\n",
    "\n",
    "def get_embedding_function():\n",
    "    return HuggingFaceEmbeddings(model_name=\"sentence-transformers/all-MiniLM-L6-v2\")"
   ]
  },
  {
   "cell_type": "markdown",
   "metadata": {},
   "source": [
    "DOCUMENT PROCESSING"
   ]
  },
  {
   "cell_type": "code",
   "execution_count": 3,
   "metadata": {},
   "outputs": [
    {
     "name": "stdout",
     "output_type": "stream",
     "text": [
      "📂 Jumlah dokumen dalam DB sebelum update: 266\n",
      "✅ Tidak ada dokumen baru untuk ditambahkan\n"
     ]
    }
   ],
   "source": [
    "def load_documents():\n",
    "    document_loader = PyPDFDirectoryLoader(DATA_PATH)\n",
    "    return document_loader.load()\n",
    "\n",
    "def split_documents(documents: list[Document]):\n",
    "    text_splitter = RecursiveCharacterTextSplitter(\n",
    "        chunk_size=800,\n",
    "        chunk_overlap=80,\n",
    "        length_function=len,\n",
    "        is_separator_regex=False,\n",
    "    )\n",
    "    return text_splitter.split_documents(documents)\n",
    "\n",
    "def add_to_chroma(chunks: list[Document]):\n",
    "    db = Chroma(persist_directory=CHROMA_PATH, embedding_function=get_embedding_function())\n",
    "    \n",
    "    existing_docs = db.get(include=['documents', 'metadatas'])\n",
    "    \n",
    "    if isinstance(existing_docs, dict) and \"documents\" in existing_docs:\n",
    "        existing_texts = {doc.strip() for doc in existing_docs[\"documents\"]}\n",
    "    else:\n",
    "        print(\"Data dari db.get() tidak sesuai format yang diharapkan.\")\n",
    "        return db\n",
    "    \n",
    "    print(f\"📂 Jumlah dokumen dalam DB sebelum update: {len(existing_texts)}\")\n",
    "    \n",
    "    new_chunks = []\n",
    "    added_files = set()\n",
    "    \n",
    "    for chunk in chunks:\n",
    "        chunk_text = chunk.page_content.strip()\n",
    "        if chunk_text not in existing_texts:\n",
    "            new_chunks.append(chunk)\n",
    "            added_files.add((chunk.metadata.get('source'), chunk.metadata.get('page')))\n",
    "    \n",
    "    if new_chunks:\n",
    "        print(f\"📌 Menambahkan {len(new_chunks)} dokumen baru...\")\n",
    "        db.add_documents(new_chunks) \n",
    "        print(f\"🔍 Jumlah dokumen dalam DB setelah persist: {len(db.get(include=['documents']).get('documents', []))}\")\n",
    "        print(\"📄 Dokumen yang baru ditambahkan:\")\n",
    "        for file, page in added_files:\n",
    "            print(f\"   - {file} (Page {page})\")\n",
    "    else:\n",
    "        print(\"✅ Tidak ada dokumen baru untuk ditambahkan\")\n",
    "    \n",
    "    return db\n",
    "\n",
    "def clear_database():\n",
    "    if os.path.exists(CHROMA_PATH):\n",
    "        shutil.rmtree(CHROMA_PATH)\n",
    "        print(\"🔥 Database telah dihapus.\")\n",
    "\n",
    "if __name__ == \"__main__\":\n",
    "    #clear_database()\n",
    "    documents = load_documents()\n",
    "    chunks = split_documents(documents)\n",
    "    db = add_to_chroma(chunks)"
   ]
  },
  {
   "cell_type": "markdown",
   "metadata": {},
   "source": [
    "CHECK DOCUMENTS IN DATABASE"
   ]
  },
  {
   "cell_type": "code",
   "execution_count": 7,
   "metadata": {},
   "outputs": [
    {
     "name": "stdout",
     "output_type": "stream",
     "text": [
      "🔍 Checking ChromaDB collection contents...\n",
      "📂 Documents retrieved: 266\n",
      "📄 Sample metadata:\n",
      "- {'page': 0, 'page_label': '1', 'source': 'data\\\\22778-88667-1-PB.pdf'}\n",
      "- {'page': 0, 'page_label': '1', 'source': 'data\\\\22778-88667-1-PB.pdf'}\n",
      "- {'page': 0, 'page_label': '1', 'source': 'data\\\\22778-88667-1-PB.pdf'}\n",
      "- {'page': 0, 'page_label': '1', 'source': 'data\\\\22778-88667-1-PB.pdf'}\n",
      "- {'page': 1, 'page_label': '2', 'source': 'data\\\\22778-88667-1-PB.pdf'}\n",
      "- {'page': 1, 'page_label': '2', 'source': 'data\\\\22778-88667-1-PB.pdf'}\n",
      "- {'page': 1, 'page_label': '2', 'source': 'data\\\\22778-88667-1-PB.pdf'}\n",
      "- {'page': 1, 'page_label': '2', 'source': 'data\\\\22778-88667-1-PB.pdf'}\n",
      "- {'page': 1, 'page_label': '2', 'source': 'data\\\\22778-88667-1-PB.pdf'}\n",
      "- {'page': 1, 'page_label': '2', 'source': 'data\\\\22778-88667-1-PB.pdf'}\n"
     ]
    }
   ],
   "source": [
    "print(\"🔍 Checking ChromaDB collection contents...\")\n",
    "results = db.get(include=[\"documents\", \"metadatas\"])\n",
    "print(\"📂 Documents retrieved:\", len(results.get(\"documents\", [])))\n",
    "print(\"📄 Sample metadata:\")\n",
    "for meta in results.get(\"metadatas\", [])[:10]: \n",
    "    print(f\"- {meta}\") "
   ]
  },
  {
   "cell_type": "markdown",
   "metadata": {},
   "source": [
    "TESTING MODELS WITH GRAPHRAG"
   ]
  },
  {
   "cell_type": "code",
   "execution_count": 8,
   "metadata": {},
   "outputs": [
    {
     "name": "stdout",
     "output_type": "stream",
     "text": [
      "🔎 Dokumen yang digunakan untuk ringkasan:\n",
      "- 📄 data\\ifransiska,+716-1511-1-PB.pdf - Page 2 (Score: 0.59)\n",
      "- 📄 data\\Kesehatan_Mental_Masyarakat_Indonesia_Pe.pdf - Page 4 (Score: 0.59)\n",
      "- 📄 data\\Kesehatan_Mental_Masyarakat_Indonesia_Pe.pdf - Page 4 (Score: 0.59)\n",
      "- 📄 data\\Kesehatan_Mental_Sumber_Daya_Manusia_Ind.pdf - Page 7 (Score: 0.59)\n",
      "- 📄 data\\Kesehatan_Mental_Sumber_Daya_Manusia_Ind.pdf - Page 0 (Score: 0.58)\n"
     ]
    },
    {
     "data": {
      "text/markdown": [
       "Berdasarkan teks tersebut, faktor utama yang mempengaruhi kesehatan mental adalah dukungan masyarakat. Menurut teks, penderita gangguan kesehatan mental mengalami kesulitan dalam mendapatkan dukungan dari masyarakat karena mereka dianggap sebagai orang berbahaya atau pasien yang tidak dapat pulih. Oleh karena itu, memberikan edukasi tentang kesehatan mental dan gangguan kesehatan mental adalah penting untuk membantu masyarakat memahami kondisi penderita dan mengurangi stigma negatif terhadap mereka.\n",
       "\n",
       "Selain dukungan masyarakat, teks juga menyebutkan bahwa faktor lain yang mempengaruhi kesehatan mental adalah wilayah. Penelitian empiris menunjukkan bahwa wilayah dengan kepadatan penduduk akan menghasilkan jumlah cacat mental yang lebih tinggi. Hal ini berarti bahwa faktor geografis dan demografi juga dapat mempengaruhi kesehatan mental.\n",
       "\n",
       "Namun, perlu diingat bahwa teks tersebut tidak menyebutkan secara eksplisit tentang faktor utama yang mempengaruhi kesehatan mental secara umum. Namun, berdasarkan konteks dan isi teks, dapat disimpulkan bahwa dukungan masyarakat dan wilayah merupakan faktor-faktor yang signifikan dalam mempengaruhi kesehatan mental.\n",
       "\n",
       "Dalam konteks ini, penelitian yang dilakukan oleh BPS tahun 2018 menunjukkan bahwa prevalensi cacat mental menyebar di seluruh wilayah Indonesia, termasuk Sulawesi. Hal ini dapat membantu memahami bahwa kesehatan mental bukan hanya dipengaruhi oleh faktor-faktor internal tetapi juga oleh faktor-faktor luar yang terkait dengan lingkungan dan masyarakat.\n",
       "\n",
       "Dalam keseluruhan, teks tersebut menyebutkan bahwa kesehatan mental dipengaruhi oleh berbagai faktor, termasuk dukungan masyarakat, wilayah, dan lain-lain. Oleh karena itu, penting untuk memahami bahwa kesehatan mental bukan hanya dipengaruhi oleh faktor-faktor internal tetapi juga oleh faktor-faktor luar yang terkait dengan lingkungan dan masyarakat."
      ],
      "text/plain": [
       "<IPython.core.display.Markdown object>"
      ]
     },
     "metadata": {},
     "output_type": "display_data"
    }
   ],
   "source": [
    "def retrieve_summary(db, query, k=5):\n",
    "    results = db.similarity_search_with_score(query, k=10) \n",
    "    if not results:\n",
    "        return \"❌ Tidak ada dokumen yang relevan ditemukan.\"\n",
    "    \n",
    "    results = sorted(results, key=lambda x: x[1], reverse=True)[:k]\n",
    "    \n",
    "    print(\"🔎 Dokumen yang digunakan untuk ringkasan:\")\n",
    "    for doc, score in results:\n",
    "        print(f\"- 📄 {doc.metadata['source']} - Page {doc.metadata['page']} (Score: {score:.2f})\")\n",
    "    \n",
    "    return \"\\n\".join([doc.page_content for doc, _ in results])\n",
    "\n",
    "class GraphRAG:\n",
    "    def __init__(self, chroma_db, model, prompt_template):\n",
    "        self.db = chroma_db\n",
    "        self.model = model\n",
    "        self.prompt_template = prompt_template\n",
    "        self.graph = nx.Graph()\n",
    "        self.documents = []\n",
    "\n",
    "    def fetch_documents_from_chroma(self):\n",
    "        results = self.db.get(include=[\"documents\", \"metadatas\"])\n",
    "        documents = [(doc, meta) for doc, meta in zip(results.get(\"documents\", []), results.get(\"metadatas\", [])) if doc]\n",
    "        return documents\n",
    "\n",
    "    def generate_response(self, query):\n",
    "        relevant_text = retrieve_summary(self.db, query, k=5)\n",
    "        \n",
    "        if \"❌ Tidak ada dokumen yang relevan ditemukan.\" in relevant_text:\n",
    "            return \"Maaf, saya tidak dapat menemukan informasi yang relevan dalam dokumen yang ada.\"\n",
    "        \n",
    "        response_prompt = f\"\"\"\n",
    "        Anda adalah asisten yang membantu menjawab pertanyaan berdasarkan dokumen.\n",
    "        Tugas Anda adalah memberikan jawaban yang akurat dan terperinci. Jika perlu, gunakan analisis atau pemahaman tambahan.\n",
    "\n",
    "        Berdasarkan teks berikut, jawab pertanyaan dengan akurat. Jika jawaban tidak lengkap, beri penjelasan lebih lanjut.\n",
    "\n",
    "        Teks:\n",
    "        {relevant_text}\n",
    "\n",
    "        Pertanyaan:\n",
    "        {query}\n",
    "        \"\"\"\n",
    "    \n",
    "        response = self.model.invoke(response_prompt)\n",
    "        return response\n",
    "\n",
    "if __name__ == \"__main__\":\n",
    "    embedding_function = get_embedding_function()\n",
    "    chroma_db = Chroma(persist_directory=CHROMA_PATH, embedding_function=embedding_function)\n",
    "\n",
    "    model = OllamaLLM(model=OLLAMA_MODEL)\n",
    "    graph_rag = GraphRAG(chroma_db, model, None)\n",
    "\n",
    "    query = \"Apa faktor utama yang mempengaruhi kesehatan mental?\"\n",
    "    response = graph_rag.generate_response(query)\n",
    "    display(Markdown(response))\n"
   ]
  }
 ],
 "metadata": {
  "kernelspec": {
   "display_name": "Python 3",
   "language": "python",
   "name": "python3"
  },
  "language_info": {
   "codemirror_mode": {
    "name": "ipython",
    "version": 3
   },
   "file_extension": ".py",
   "mimetype": "text/x-python",
   "name": "python",
   "nbconvert_exporter": "python",
   "pygments_lexer": "ipython3",
   "version": "3.12.8"
  }
 },
 "nbformat": 4,
 "nbformat_minor": 2
}
