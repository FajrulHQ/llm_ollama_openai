{
 "cells": [
  {
   "cell_type": "markdown",
   "metadata": {},
   "source": [
    "PROCESS DOCUMENT"
   ]
  },
  {
   "cell_type": "code",
   "execution_count": 2,
   "metadata": {},
   "outputs": [],
   "source": [
    "import os\n",
    "import shutil\n",
    "from utils.document_processor import DocumentProcessor\n",
    "from chromadb import Client\n",
    "from sentence_transformers import SentenceTransformer\n",
    "\n",
    "CHROMA_PATH = \"chroma\"\n",
    "DATA_PATH = \"./data\"\n",
    "VALID_EXTENSIONS = ('.pdf', '.docx', '.txt')\n",
    "\n",
    "docs = DocumentProcessor()\n",
    "chroma_client = Client()\n",
    "collection = chroma_client.get_or_create_collection(name=\"document_vectors\")\n",
    "embedding_model = SentenceTransformer(\"all-MiniLM-L6-v2\")\n",
    "\n",
    "def load_documents():\n",
    "    for filename in filter(lambda f: f.lower().endswith(VALID_EXTENSIONS), os.listdir(DATA_PATH)):\n",
    "        filepath = os.path.join(DATA_PATH, filename)\n",
    "        with open(filepath, \"rb\") as f:\n",
    "            yield docs.process_document(f.read(), filename)\n",
    "\n",
    "def split_documents(extracted_docs, chunk_size=500):\n",
    "    for doc_index, (content, _, _, _) in enumerate(extracted_docs):\n",
    "        for page_number, page_content in enumerate(content or []):\n",
    "            for i in range(0, len(page_content), chunk_size):\n",
    "                chunk = page_content[i:i+chunk_size].strip()\n",
    "                if chunk:\n",
    "                    yield f\"doc{doc_index}_page{page_number}_chunk{i//chunk_size}\", chunk, doc_index, page_number\n",
    "\n",
    "def add_to_chroma(chunks):\n",
    "    existing_ids = set(collection.get(include=[]).get(\"ids\", []))\n",
    "    new_chunks = [(cid, embedding_model.encode([chunk])[0].tolist(), doc_idx, page)\n",
    "                  for cid, chunk, doc_idx, page in chunks if cid not in existing_ids]\n",
    "\n",
    "    if new_chunks:\n",
    "        ids, embeddings, metadata = zip(*[(cid, emb, {\"doc_index\": doc_idx, \"page\": page})\n",
    "                                           for cid, emb, doc_idx, page in new_chunks])\n",
    "        collection.add(ids=list(ids), embeddings=list(embeddings), metadatas=list(metadata))\n",
    "\n",
    "def main(reset=False):\n",
    "    if reset and os.path.exists(CHROMA_PATH):\n",
    "        shutil.rmtree(CHROMA_PATH)\n",
    "\n",
    "    add_to_chroma(split_documents(load_documents()))\n"
   ]
  },
  {
   "cell_type": "markdown",
   "metadata": {},
   "source": [
    "OLLAMA MODEL"
   ]
  },
  {
   "cell_type": "code",
   "execution_count": 3,
   "metadata": {},
   "outputs": [],
   "source": [
    "from langchain_core.prompts import ChatPromptTemplate\n",
    "from langchain_ollama.llms import OllamaLLM"
   ]
  },
  {
   "cell_type": "code",
   "execution_count": 4,
   "metadata": {},
   "outputs": [],
   "source": [
    "OLLAMA_MODEL = \"llama3.2\"\n",
    "COLLECTION_NAME = \"ollama_vectore_test\""
   ]
  },
  {
   "cell_type": "markdown",
   "metadata": {},
   "source": [
    "TEST OLLAMA MODEL WITH GRAPHRAG v1"
   ]
  },
  {
   "cell_type": "code",
   "execution_count": 5,
   "metadata": {},
   "outputs": [],
   "source": [
    "import networkx as nx\n",
    "\n",
    "def create_document_graph(documents):\n",
    "    G = nx.Graph()\n",
    "    \n",
    "    for i, doc in enumerate(documents):\n",
    "        G.add_node(i, content=doc)\n",
    "        if i < len(documents) - 1:\n",
    "            G.add_edge(i, i + 1)\n",
    "    \n",
    "    return G\n",
    "\n",
    "def retrieve_relevant_documents(graph, query):\n",
    "    return [graph.nodes[n]['content'] for n in graph.nodes]"
   ]
  },
  {
   "cell_type": "code",
   "execution_count": 6,
   "metadata": {},
   "outputs": [
    {
     "name": "stderr",
     "output_type": "stream",
     "text": [
      "c:\\Users\\Agus Syuhada\\AppData\\Local\\Programs\\Python\\Python312\\Lib\\site-packages\\camelot\\parsers\\base.py:238: UserWarning: No tables found in table area (111.5, 542.6001, 557.9479999999996, 698.3084333333334)\n",
      "  cols, rows, v_s, h_s = self._generate_columns_and_rows(bbox, user_cols)\n",
      "c:\\Users\\Agus Syuhada\\AppData\\Local\\Programs\\Python\\Python312\\Lib\\site-packages\\camelot\\parsers\\base.py:238: UserWarning: No tables found in table area (111.5, 483.7201, 564.3521999999999, 760.7201)\n",
      "  cols, rows, v_s, h_s = self._generate_columns_and_rows(bbox, user_cols)\n",
      "c:\\Users\\Agus Syuhada\\AppData\\Local\\Programs\\Python\\Python312\\Lib\\site-packages\\camelot\\parsers\\base.py:238: UserWarning: No tables found in table area (21.19, 42.025999999999996, 416.0100000000002, 809.3267407407408)\n",
      "  cols, rows, v_s, h_s = self._generate_columns_and_rows(bbox, user_cols)\n",
      "c:\\Users\\Agus Syuhada\\AppData\\Local\\Programs\\Python\\Python312\\Lib\\site-packages\\camelot\\parsers\\base.py:238: UserWarning: No tables found in table area (21.19, 628.7959999999999, 235.94999999999993, 811.9193333333334)\n",
      "  cols, rows, v_s, h_s = self._generate_columns_and_rows(bbox, user_cols)\n"
     ]
    },
    {
     "data": {
      "text/markdown": [
       "This is a summary of a list of interesting facts about Canada:\n",
       "\n",
       "* Canada has the longest running ballet company in North America - the Royal Winnipeg Ballet\n",
       "* Canada is home to many cultural institutions and has a welcoming spirit\n",
       "* It's the number 1 travel destination in the world, according to Travel + Leisure magazine (2017)\n",
       "* Canada is the oldest ballet company in Canada, located in Manitoba\n",
       "* The country has unspoiled landscapes, dynamic cities, and vibrant culture\n",
       "\n",
       "Note: This summary only includes a few of the many interesting facts about Canada mentioned in the original text."
      ],
      "text/plain": [
       "<IPython.core.display.Markdown object>"
      ]
     },
     "metadata": {},
     "output_type": "display_data"
    },
    {
     "data": {
      "text/markdown": [
       "The provided text appears to be a summary or an extract from a Wikipedia article about Indonesia. The content includes various sections such as:\n",
       "\n",
       "* Geography and geografi\n",
       "* Economy and sector ekonomi utama\n",
       "* Demographics and data umum negara indonesia\n",
       "* Symbols of national identity, including the symbol nasional, lagu kebangsaan (national anthem), bendera (flag), lambang negara (state emblem), and semboyan (motto)\n",
       "* National holidays and celebrations\n",
       "\n",
       "There is no apparent logical flow or order to the content, and it seems to be a collection of related information about Indonesia rather than a cohesive narrative. The text also includes various formatting elements such as bold font, which suggests that it may be part of a larger document or webpage.\n",
       "\n",
       "Without more context, it is difficult to provide a specific summary or interpretation of this content. However, the provided text appears to be a factual representation of information about Indonesia, likely from a reliable source such as Wikipedia."
      ],
      "text/plain": [
       "<IPython.core.display.Markdown object>"
      ]
     },
     "metadata": {},
     "output_type": "display_data"
    }
   ],
   "source": [
    "from IPython.display import display, Markdown\n",
    "import networkx as nx\n",
    "\n",
    "# Template untuk prompt summarization\n",
    "template = \"\"\"\n",
    "You are a helpful assistant for text summarization. \n",
    "Only include information that is part of the document. \n",
    "Do not include your own opinion or analysis.\n",
    "\n",
    "Document: \n",
    "\"{document}\"\n",
    "Summary:\n",
    "\"\"\"\n",
    "\n",
    "prompt = ChatPromptTemplate.from_template(template)\n",
    "model = OllamaLLM(model=OLLAMA_MODEL)\n",
    "chain = prompt | model\n",
    "\n",
    "def create_document_graph(documents):\n",
    "    G = nx.Graph()\n",
    "    \n",
    "    for i, doc in enumerate(documents):\n",
    "        G.add_node(i, content=doc)\n",
    "        \n",
    "        if i < len(documents) - 1:\n",
    "            G.add_edge(i, i + 1)\n",
    "    \n",
    "    return G\n",
    "\n",
    "def retrieve_relevant_documents(graph, query):\n",
    "    return [graph.nodes[n]['content'] for n in graph.nodes]\n",
    "\n",
    "def summarize_documents(documents, query):\n",
    "    graph = create_document_graph(documents)\n",
    "    \n",
    "    relevant_documents = retrieve_relevant_documents(graph, query)\n",
    "    \n",
    "    summaries = []\n",
    "    for doc_index, doc_data in enumerate(relevant_documents):\n",
    "        if not doc_data or len(doc_data) < 4:\n",
    "            continue\n",
    "        \n",
    "        content, _, _, _ = doc_data\n",
    "        full_text = \"\\n\".join(\n",
    "            \" \".join(map(str, page)) if isinstance(page, list) else str(page)\n",
    "            for page in content\n",
    "        ) if isinstance(content, list) else str(content)\n",
    "        \n",
    "        if not full_text.strip():\n",
    "            continue\n",
    "        \n",
    "        summaries.append(chain.invoke({\"document\": full_text}))\n",
    "    \n",
    "    return summaries\n",
    "\n",
    "documents = list(load_documents())\n",
    "query = \"What is discussed in this document?\" \n",
    "\n",
    "summaries = summarize_documents(documents, query)\n",
    "\n",
    "for summary in summaries:\n",
    "    display(Markdown(summary))"
   ]
  },
  {
   "cell_type": "markdown",
   "metadata": {},
   "source": [
    "TEST OLLAMA MODEL WITH GRAPHRAG v2"
   ]
  },
  {
   "cell_type": "code",
   "execution_count": 7,
   "metadata": {},
   "outputs": [
    {
     "name": "stderr",
     "output_type": "stream",
     "text": [
      "c:\\Users\\Agus Syuhada\\AppData\\Local\\Programs\\Python\\Python312\\Lib\\site-packages\\camelot\\parsers\\base.py:238: UserWarning: No tables found in table area (111.5, 542.6001, 557.9479999999996, 698.3084333333334)\n",
      "  cols, rows, v_s, h_s = self._generate_columns_and_rows(bbox, user_cols)\n",
      "c:\\Users\\Agus Syuhada\\AppData\\Local\\Programs\\Python\\Python312\\Lib\\site-packages\\camelot\\parsers\\base.py:238: UserWarning: No tables found in table area (111.5, 483.7201, 564.3521999999999, 760.7201)\n",
      "  cols, rows, v_s, h_s = self._generate_columns_and_rows(bbox, user_cols)\n",
      "c:\\Users\\Agus Syuhada\\AppData\\Local\\Programs\\Python\\Python312\\Lib\\site-packages\\camelot\\parsers\\base.py:238: UserWarning: No tables found in table area (21.19, 42.025999999999996, 416.0100000000002, 809.3267407407408)\n",
      "  cols, rows, v_s, h_s = self._generate_columns_and_rows(bbox, user_cols)\n",
      "c:\\Users\\Agus Syuhada\\AppData\\Local\\Programs\\Python\\Python312\\Lib\\site-packages\\camelot\\parsers\\base.py:238: UserWarning: No tables found in table area (21.19, 628.7959999999999, 235.94999999999993, 811.9193333333334)\n",
      "  cols, rows, v_s, h_s = self._generate_columns_and_rows(bbox, user_cols)\n"
     ]
    },
    {
     "data": {
      "text/markdown": [
       "The provided text appears to be a summary or an excerpt from an article about Canada. The content includes various interesting facts and highlights about the country, such as:\n",
       "\n",
       "1. Canada's long history of ballet, with the Royal Winnipeg Ballet being one of the oldest in North America.\n",
       "2. Canada being ranked as the number 1 travel destination in the world by Travel + Leisure magazine (2017).\n",
       "3. The country's diverse landscapes, dynamic cities, and welcoming culture.\n",
       "4. Canada's notable institutions, including its many museums, galleries, and cultural attractions.\n",
       "\n",
       "Overall, the text suggests that Canada is a fascinating country with a rich history, vibrant culture, and plenty to offer visitors and residents alike."
      ],
      "text/plain": [
       "<IPython.core.display.Markdown object>"
      ]
     },
     "metadata": {},
     "output_type": "display_data"
    },
    {
     "data": {
      "text/markdown": [
       "The provided text appears to be a summary or a list of information about Indonesia. The content is not well-organized and lacks a clear structure, but it can be summarized as follows:\n",
       "\n",
       "**Geography**: Indonesia is located in Asia Tenggara (Southeast Asia) and borders Malaysia and Australia to the north and south, respectively.\n",
       "\n",
       "**Climate**: Indonesia has a tropical climate with temperatures ranging from 20°C to 30°C throughout the year.\n",
       "\n",
       "**Economy**: Indonesia's economy is driven by agriculture, industry, and services. The country is one of the largest producers of palm oil, coffee, and cocoa in the world. The government aims to develop its tourism sector as well.\n",
       "\n",
       "**Government**: Indonesia is a democratic republic with a president as head of state and government. The government has three branches: executive, legislative, and judicial.\n",
       "\n",
       "**Culture**: Indonesian culture is influenced by its rich history, which includes Hinduism, Buddhism, Islam, Christianity, and traditional animist practices. The country celebrates many festivals throughout the year, including Independence Day on August 17th.\n",
       "\n",
       "**National symbols**: Indonesia's national symbols include the Merah Putih (Red-White) flag, the Garuda Pancasila emblem, and the song \"Indonesia Raya\".\n",
       "\n",
       "Overall, the text provides a brief overview of various aspects of Indonesia, but it could be improved with more organization and clarity."
      ],
      "text/plain": [
       "<IPython.core.display.Markdown object>"
      ]
     },
     "metadata": {},
     "output_type": "display_data"
    },
    {
     "name": "stdout",
     "output_type": "stream",
     "text": [
      "\n",
      "--- Insights ---\n"
     ]
    },
    {
     "data": {
      "text/markdown": [
       "Based on this summary, here are some important insights about Canada:\n",
       "\n",
       "1. **Rich Cultural Heritage**: Canada has a long history of ballet, indicating its strong cultural roots and appreciation for the arts.\n",
       "\n",
       "2. **Tourism and Recognition**: Being ranked as the number 1 travel destination in the world by Travel + Leisure magazine (2017) highlights Canada's unique attractions and appeal to tourists.\n",
       "\n",
       "3. **Diverse Landscapes and Cities**: The country boasts diverse landscapes, dynamic cities, and a welcoming culture, suggesting a wide range of experiences for visitors and residents alike.\n",
       "\n",
       "4. **Cultural Institutions**: The presence of numerous museums, galleries, and cultural attractions underscores Canada's commitment to its cultural heritage and its status as a hub for artistic expression.\n",
       "\n",
       "5. **National Pride and Reputation**: These insights suggest that Canada is not only a beautiful country but also one with a strong national identity and reputation for excellence in various aspects of culture and tourism."
      ],
      "text/plain": [
       "<IPython.core.display.Markdown object>"
      ]
     },
     "metadata": {},
     "output_type": "display_data"
    },
    {
     "data": {
      "text/markdown": [
       "Based on the summary of highly rated documents about Indonesia, here are some important insights:\n",
       "\n",
       "1. **Strategic Location**: Indonesia is strategically located in Southeast Asia, bordering Malaysia to the north and Australia to the south, making it an ideal location for trade and cultural exchange.\n",
       "\n",
       "2. **Diverse Economy**: Indonesia's economy is driven by a diverse range of sectors, including agriculture (palm oil, coffee, cocoa), industry, and services, indicating its resilience and adaptability in the face of economic challenges.\n",
       "\n",
       "3. **Tourism Potential**: With its rich culture and natural beauty, Indonesia has significant potential for tourism development, which could contribute to the country's economic growth and create jobs.\n",
       "\n",
       "4. **Democratic System**: Indonesia is a democratic republic with a president as head of state and government, indicating a commitment to democratic principles and the rule of law.\n",
       "\n",
       "5. **Cultural Diversity**: Indonesian culture is shaped by its rich history, which reflects the influence of various religions (Hinduism, Buddhism, Islam, Christianity) and traditional animist practices, making it one of the most culturally diverse countries in the world.\n",
       "\n",
       "6. **National Identity**: Indonesia's national symbols, such as the Merah Putih flag, Garuda Pancasila emblem, and song \"Indonesia Raya\", reflect the country's strong sense of national identity and pride in its history and culture.\n",
       "\n",
       "7. **Climate and Geography**: Indonesia's tropical climate and geography make it vulnerable to natural disasters, such as earthquakes and tsunamis, which can have significant impacts on the country's economy and population.\n",
       "\n",
       "Overall, these insights suggest that Indonesia is a country with significant economic, cultural, and strategic importance in Southeast Asia, with a rich history and diverse culture that makes it an attractive destination for tourists and businesses alike."
      ],
      "text/plain": [
       "<IPython.core.display.Markdown object>"
      ]
     },
     "metadata": {},
     "output_type": "display_data"
    }
   ],
   "source": [
    "from IPython.display import display, Markdown\n",
    "import networkx as nx\n",
    "import numpy as np\n",
    "from sklearn.feature_extraction.text import TfidfVectorizer\n",
    "from sklearn.metrics.pairwise import cosine_similarity\n",
    "\n",
    "class GraphRAG:\n",
    "    def __init__(self, documents, model, prompt_template):\n",
    "        self.documents = documents\n",
    "        self.model = model\n",
    "        self.prompt_template = prompt_template\n",
    "        self.graph = nx.Graph()\n",
    "        \n",
    "    def create_document_embeddings(self):\n",
    "        vectorizer = TfidfVectorizer()\n",
    "        doc_texts = [\n",
    "            \"\\n\".join(map(str, doc[0])) if isinstance(doc[0], list) else str(doc[0])\n",
    "            for doc in self.documents\n",
    "        ]\n",
    "        embeddings = vectorizer.fit_transform(doc_texts)\n",
    "        return embeddings\n",
    "    \n",
    "    def build_document_graph(self, embeddings, similarity_threshold=0.2):\n",
    "        similarity_matrix = cosine_similarity(embeddings)\n",
    "        \n",
    "        for i in range(len(self.documents)):\n",
    "            self.graph.add_node(i, text=self.documents[i])\n",
    "            \n",
    "        for i in range(len(self.documents)):\n",
    "            for j in range(i+1, len(self.documents)):\n",
    "                if similarity_matrix[i, j] > similarity_threshold:\n",
    "                    self.graph.add_edge(i, j, weight=similarity_matrix[i, j])\n",
    "    \n",
    "    def summarize_documents(self):\n",
    "        summaries = []\n",
    "        \n",
    "        chain = self.prompt_template | self.model\n",
    "        \n",
    "        for doc_index, doc_data in enumerate(self.documents):\n",
    "            if not doc_data or len(doc_data) < 4:\n",
    "                continue\n",
    "            \n",
    "            content, _, _, _ = doc_data\n",
    "            full_text = \"\\n\".join(\n",
    "                \" \".join(map(str, page)) if isinstance(page, list) else str(page)\n",
    "                for page in content\n",
    "            ) if isinstance(content, list) else str(content)\n",
    "            \n",
    "            if not full_text.strip():\n",
    "                continue\n",
    "            \n",
    "            summary = chain.invoke({\"document\": full_text})\n",
    "            summaries.append(summary)\n",
    "            \n",
    "            self.graph.nodes[doc_index]['summary'] = summary\n",
    "        \n",
    "        return summaries\n",
    "    \n",
    "    def rank_documents(self):\n",
    "        pagerank = nx.pagerank(self.graph)\n",
    "        ranked_docs = sorted(\n",
    "            [(idx, score) for idx, score in pagerank.items()], \n",
    "            key=lambda x: x[1], \n",
    "            reverse=True\n",
    "        )\n",
    "        return ranked_docs\n",
    "    \n",
    "    def generate_insights(self):\n",
    "        insights = []\n",
    "        ranked_docs = self.rank_documents()\n",
    "        \n",
    "        for idx, rank_score in ranked_docs[:3]: \n",
    "            node_data = self.graph.nodes[idx]\n",
    "            summary = node_data.get('summary', '')\n",
    "            \n",
    "            insight_prompt = f\"\"\"\n",
    "            Based on the summary of highly rated documents, \n",
    "            provide important insights:\n",
    "            \n",
    "            Summary: {summary}\n",
    "            \"\"\"\n",
    "            \n",
    "            insight = self.model.invoke(insight_prompt)\n",
    "            insights.append(insight)\n",
    "        \n",
    "        return insights\n",
    "\n",
    "template = \"\"\"\n",
    "You are a helpful assistant for text summarization. \n",
    "Only include information that is part of the document. \n",
    "Do not include your own opinion or analysis.\n",
    "\n",
    "Document: \n",
    "\"{document}\"\n",
    "Summary:\n",
    "\"\"\"\n",
    "\n",
    "prompt = ChatPromptTemplate.from_template(template)\n",
    "model = OllamaLLM(model=OLLAMA_MODEL)\n",
    "\n",
    "documents = list(load_documents())\n",
    "\n",
    "graph_rag = GraphRAG(documents, model, prompt)\n",
    "\n",
    "embeddings = graph_rag.create_document_embeddings()\n",
    "graph_rag.build_document_graph(embeddings)\n",
    "\n",
    "summaries = graph_rag.summarize_documents()\n",
    "\n",
    "for summary in summaries:\n",
    "    display(Markdown(summary))\n",
    "\n",
    "insights = graph_rag.generate_insights()\n",
    "print(\"\\n--- Insights ---\")\n",
    "for insight in insights:\n",
    "    display(Markdown(insight))"
   ]
  },
  {
   "cell_type": "markdown",
   "metadata": {},
   "source": [
    "TEST OLLAMA MODEL WITH RAG V3"
   ]
  },
  {
   "cell_type": "code",
   "execution_count": 8,
   "metadata": {},
   "outputs": [
    {
     "name": "stderr",
     "output_type": "stream",
     "text": [
      "c:\\Users\\Agus Syuhada\\AppData\\Local\\Programs\\Python\\Python312\\Lib\\site-packages\\camelot\\parsers\\base.py:238: UserWarning: No tables found in table area (111.5, 542.6001, 557.9479999999996, 698.3084333333334)\n",
      "  cols, rows, v_s, h_s = self._generate_columns_and_rows(bbox, user_cols)\n",
      "c:\\Users\\Agus Syuhada\\AppData\\Local\\Programs\\Python\\Python312\\Lib\\site-packages\\camelot\\parsers\\base.py:238: UserWarning: No tables found in table area (111.5, 483.7201, 564.3521999999999, 760.7201)\n",
      "  cols, rows, v_s, h_s = self._generate_columns_and_rows(bbox, user_cols)\n",
      "c:\\Users\\Agus Syuhada\\AppData\\Local\\Programs\\Python\\Python312\\Lib\\site-packages\\camelot\\parsers\\base.py:238: UserWarning: No tables found in table area (21.19, 42.025999999999996, 416.0100000000002, 809.3267407407408)\n",
      "  cols, rows, v_s, h_s = self._generate_columns_and_rows(bbox, user_cols)\n",
      "c:\\Users\\Agus Syuhada\\AppData\\Local\\Programs\\Python\\Python312\\Lib\\site-packages\\camelot\\parsers\\base.py:238: UserWarning: No tables found in table area (21.19, 628.7959999999999, 235.94999999999993, 811.9193333333334)\n",
      "  cols, rows, v_s, h_s = self._generate_columns_and_rows(bbox, user_cols)\n"
     ]
    },
    {
     "data": {
      "text/markdown": [
       "The text appears to be a summary of Canadian tourism attractions and facts. Here is a breakdown of the main points:\n",
       "\n",
       "1. **Ballet**: Canada is home to the longest running ballet company in North America, the Royal Winnipeg Ballet.\n",
       "2. **Travel**: Canada is the number 1 travel destination in the world, according to Travel + Leisure magazine (2017).\n",
       "3. **Nature and culture**: Canada offers unspoiled landscapes, dynamic cities, cultural institutions, and a welcoming spirit.\n",
       "4. **Ballet companies**: The Royal Winnipeg Ballet is the oldest ballet company in Canada.\n",
       "5. **Travel magazines**: Lonely Planet singled out Canada for its unique attractions.\n",
       "\n",
       "Overall, the text highlights Canada's rich cultural heritage, stunning natural beauty, and warm hospitality, making it an attractive destination for tourists."
      ],
      "text/plain": [
       "<IPython.core.display.Markdown object>"
      ]
     },
     "metadata": {},
     "output_type": "display_data"
    },
    {
     "data": {
      "text/markdown": [
       "The text appears to be a collection of data and information about Indonesia, including its geography, economy, government, culture, and national symbols. The format is a list of key-value pairs, where each pair contains a brief description or fact about Indonesia.\n",
       "\n",
       "Here are some summaries of the main categories:\n",
       "\n",
       "**Geography**\n",
       "\n",
       "* Location: Asia Tenggara (Southeast Asia)\n",
       "* Borders: Malaysia to the north, Australia to the south\n",
       "* Highest point: Puncak Jaya (4,884 m)\n",
       "\n",
       "**Economy**\n",
       "\n",
       "* GDP (perkiraan 2024): ±1,3 triliun USD (estimated $13 billion)\n",
       "* Sector of economy: Pertanian, Pertambangan, Industri, Pariwisata (Agriculture, Mining, Industry, Tourism)\n",
       "* Main industries: Agriculture, Mining, Manufacturing\n",
       "\n",
       "**Government**\n",
       "\n",
       "* Data Umum Negara Indonesia (Common Data State of Indonesia)\n",
       "* Symbolic national: Garuda Pancasila\n",
       "* Flag: Merah Putih (Red and White)\n",
       "\n",
       "**Culture**\n",
       "\n",
       "* National song: Indonesia Raya\n",
       "* National anthem: Indonesia Raya\n",
       "* National symbol: Bhinneka Tunggal Ika (Unity in Diversity)\n",
       "* Coat of arms: Garuda Pancasila\n",
       "\n",
       "Note that this summary is based on a limited sample of the text, and there may be additional information or categories not included here."
      ],
      "text/plain": [
       "<IPython.core.display.Markdown object>"
      ]
     },
     "metadata": {},
     "output_type": "display_data"
    }
   ],
   "source": [
    "from IPython.display import display, Markdown\n",
    "from langchain_core.prompts import PromptTemplate\n",
    "from langchain_core.messages import HumanMessage\n",
    "\n",
    "class SimpleSummarizer:\n",
    "    def __init__(self, documents, model, prompt_template):\n",
    "        self.documents = documents\n",
    "        self.model = model\n",
    "        self.prompt_template = prompt_template\n",
    "\n",
    "    def prepare_text(self, doc_data):\n",
    "        \"\"\"Prepare document text for summarization\"\"\"\n",
    "        if not doc_data or len(doc_data) < 4:\n",
    "            return None\n",
    "        \n",
    "        content, _, _, _ = doc_data\n",
    "        full_text = \"\\n\".join(\n",
    "            \" \".join(map(str, page)) if isinstance(page, list) else str(page)\n",
    "            for page in content\n",
    "        ) if isinstance(content, list) else str(content)\n",
    "        \n",
    "        return full_text.strip() if full_text else None\n",
    "\n",
    "    def direct_summarization(self):\n",
    "        \"\"\"Summarization for few documents\"\"\"\n",
    "        summaries = []\n",
    "        \n",
    "        for doc_data in self.documents:\n",
    "            full_text = self.prepare_text(doc_data)\n",
    "            if not full_text:\n",
    "                continue\n",
    "            \n",
    "            prompt = self.prompt_template.format(document=full_text)\n",
    "            \n",
    "            try:\n",
    "                summary = self.model.invoke(prompt)\n",
    "                summaries.append(summary)\n",
    "            except Exception as e:\n",
    "                print(f\"Error summarizing document: {e}\")\n",
    "        \n",
    "        return summaries\n",
    "\n",
    "    def simple_multi_document_summarization(self):\n",
    "        \"\"\"Summarization for more documents\"\"\"\n",
    "        return self.direct_summarization()\n",
    "\n",
    "    def summarize_documents(self):\n",
    "        \"\"\"Select summarization method based on number of documents\"\"\"\n",
    "        if len(self.documents) < 5:\n",
    "            return self.direct_summarization()\n",
    "        else:\n",
    "            return self.simple_multi_document_summarization()\n",
    "\n",
    "def create_summarizer(documents, model):\n",
    "    template = \"\"\"\n",
    "    You are a helpful assistant for text summarization. \n",
    "    Only include information that is part of the document. \n",
    "    Do not include your own opinion or analysis.\n",
    "\n",
    "    Document: \n",
    "    \"{document}\"\n",
    "    Summary:\n",
    "    \"\"\"\n",
    "    \n",
    "    prompt_template = PromptTemplate.from_template(template)\n",
    "    \n",
    "    return SimpleSummarizer(documents, model, prompt_template)\n",
    "\n",
    "try:\n",
    "    documents = list(load_documents())\n",
    "    \n",
    "    model = OllamaLLM(model=OLLAMA_MODEL)\n",
    "    \n",
    "    summarizer = create_summarizer(documents, model)\n",
    "    \n",
    "    summaries = summarizer.summarize_documents()\n",
    "    \n",
    "    for summary in summaries:\n",
    "        display(Markdown(summary))\n",
    "\n",
    "except Exception as e:\n",
    "    print(f\"Error in summarization process: {e}\")"
   ]
  },
  {
   "cell_type": "markdown",
   "metadata": {},
   "source": [
    "TEST OLLAMA MODEL WITHOUT RAG"
   ]
  },
  {
   "cell_type": "code",
   "execution_count": 9,
   "metadata": {},
   "outputs": [
    {
     "name": "stderr",
     "output_type": "stream",
     "text": [
      "c:\\Users\\Agus Syuhada\\AppData\\Local\\Programs\\Python\\Python312\\Lib\\site-packages\\camelot\\parsers\\base.py:238: UserWarning: No tables found in table area (111.5, 542.6001, 557.9479999999996, 698.3084333333334)\n",
      "  cols, rows, v_s, h_s = self._generate_columns_and_rows(bbox, user_cols)\n",
      "c:\\Users\\Agus Syuhada\\AppData\\Local\\Programs\\Python\\Python312\\Lib\\site-packages\\camelot\\parsers\\base.py:238: UserWarning: No tables found in table area (111.5, 483.7201, 564.3521999999999, 760.7201)\n",
      "  cols, rows, v_s, h_s = self._generate_columns_and_rows(bbox, user_cols)\n",
      "c:\\Users\\Agus Syuhada\\AppData\\Local\\Programs\\Python\\Python312\\Lib\\site-packages\\camelot\\parsers\\base.py:238: UserWarning: No tables found in table area (21.19, 42.025999999999996, 416.0100000000002, 809.3267407407408)\n",
      "  cols, rows, v_s, h_s = self._generate_columns_and_rows(bbox, user_cols)\n",
      "c:\\Users\\Agus Syuhada\\AppData\\Local\\Programs\\Python\\Python312\\Lib\\site-packages\\camelot\\parsers\\base.py:238: UserWarning: No tables found in table area (21.19, 628.7959999999999, 235.94999999999993, 811.9193333333334)\n",
      "  cols, rows, v_s, h_s = self._generate_columns_and_rows(bbox, user_cols)\n"
     ]
    },
    {
     "data": {
      "text/markdown": [
       "This text is a summary of various Canadian attractions and facts. It includes:\n",
       "\n",
       "* A ballet company in Winnipeg\n",
       "* The Royal Winnipeg Ballet being the oldest ballet company in Canada\n",
       "* Canada being the number 1 travel destination in the world, according to Travel + Leisure magazine (2017)\n",
       "* Various cultural institutions and welcoming spirit\n",
       "\n",
       "The text does not provide a detailed analysis or explanation of these points, but rather presents them as facts about Canada."
      ],
      "text/plain": [
       "<IPython.core.display.Markdown object>"
      ]
     },
     "metadata": {},
     "output_type": "display_data"
    },
    {
     "data": {
      "text/markdown": [
       "Based on the provided data, here is a summary of Indonesia:\n",
       "\n",
       "**Geography**\n",
       "\n",
       "* Located in Asia Tenggara\n",
       "* Borders Malaysia and Filipina to the north, Australia to the south\n",
       "* Gunung Tertinggi (Puncak Jaya) at 4.884 mdpl\n",
       "* Sungai Terpanjang (Sungai Kapuas) at ±1.143 km\n",
       "\n",
       "**Climate**\n",
       "\n",
       "* No information provided in the data\n",
       "\n",
       "**Economy**\n",
       "\n",
       "* GDP: ±1,3 triliun USD (perkiraan 2024)\n",
       "* Sektor Ekonomi Utama: Pertanian, Pertambangan, Industri, Pariwisata\n",
       "* PDB: ±1,3 triliun USD (perkiraan 2024)\n",
       "\n",
       "**Demographics**\n",
       "\n",
       "* No information provided in the data\n",
       "\n",
       "**Culture**\n",
       "\n",
       "* Simbol Nasional: Garuda Pancasila\n",
       "* Lagu Kebangsaan: Indonesia Raya\n",
       "* Bendera: Merah Putih\n",
       "* Semboyan: Bhinneka Tunggal Ika\n",
       "\n",
       "**Government**\n",
       "\n",
       "* Data Umum Negara Indonesia (National General Information)\n",
       "* Symbol of Nationality: Garuda Pancasila\n",
       "\n",
       "Note that some information is missing from the data, and this summary only includes the provided data."
      ],
      "text/plain": [
       "<IPython.core.display.Markdown object>"
      ]
     },
     "metadata": {},
     "output_type": "display_data"
    }
   ],
   "source": [
    "from IPython.display import display, Markdown\n",
    "\n",
    "# Template untuk prompt summarization\n",
    "template = \"\"\"\n",
    "You are a helpful assistant for text summarization. \n",
    "Only include information that is part of the document. \n",
    "Do not include your own opinion or analysis.\n",
    "\n",
    "Document: \n",
    "\"{document}\"\n",
    "Summary:\n",
    "\"\"\"\n",
    "\n",
    "prompt = ChatPromptTemplate.from_template(template)\n",
    "model = OllamaLLM(model=OLLAMA_MODEL)\n",
    "chain = prompt | model\n",
    "\n",
    "def summarize_documents(documents):\n",
    "    summaries = []\n",
    "    for doc_index, doc_data in enumerate(documents):\n",
    "        if not doc_data or len(doc_data) < 4:\n",
    "            continue\n",
    "        \n",
    "        content, _, _, _ = doc_data\n",
    "        full_text = \"\\n\".join(\n",
    "            \" \".join(map(str, page)) if isinstance(page, list) else str(page)\n",
    "            for page in content\n",
    "        ) if isinstance(content, list) else str(content)\n",
    "        \n",
    "        if not full_text.strip():\n",
    "            continue\n",
    "        \n",
    "        summaries.append(chain.invoke({\"document\": full_text}))\n",
    "    \n",
    "    return summaries\n",
    "\n",
    "documents = list(load_documents())\n",
    "summaries = summarize_documents(documents)\n",
    "\n",
    "for summary in summaries:\n",
    "    display(Markdown(summary))"
   ]
  },
  {
   "cell_type": "markdown",
   "metadata": {},
   "source": [
    "TEST OPENAI MODEL"
   ]
  },
  {
   "cell_type": "code",
   "execution_count": 10,
   "metadata": {},
   "outputs": [
    {
     "ename": "AttributeError",
     "evalue": "module 'openai' has no attribute 'OpenAI'",
     "output_type": "error",
     "traceback": [
      "\u001b[1;31m---------------------------------------------------------------------------\u001b[0m",
      "\u001b[1;31mAttributeError\u001b[0m                            Traceback (most recent call last)",
      "Cell \u001b[1;32mIn[10], line 8\u001b[0m\n\u001b[0;32m      4\u001b[0m \u001b[38;5;28;01mimport\u001b[39;00m\u001b[38;5;250m \u001b[39m\u001b[38;5;21;01mopenai\u001b[39;00m\n\u001b[0;32m      6\u001b[0m load_dotenv()\n\u001b[1;32m----> 8\u001b[0m openai_client \u001b[38;5;241m=\u001b[39m \u001b[43mopenai\u001b[49m\u001b[38;5;241;43m.\u001b[39;49m\u001b[43mOpenAI\u001b[49m()  \u001b[38;5;66;03m# Inisialisasi klien baru\u001b[39;00m\n\u001b[0;32m     10\u001b[0m MODEL_NAME \u001b[38;5;241m=\u001b[39m \u001b[38;5;124m\"\u001b[39m\u001b[38;5;124mgpt-3.5-turbo\u001b[39m\u001b[38;5;124m\"\u001b[39m\n\u001b[0;32m     12\u001b[0m \u001b[38;5;28;01mdef\u001b[39;00m\u001b[38;5;250m \u001b[39m\u001b[38;5;21msummarize_documents\u001b[39m(documents):\n",
      "\u001b[1;31mAttributeError\u001b[0m: module 'openai' has no attribute 'OpenAI'"
     ]
    }
   ],
   "source": [
    "from IPython.display import display, Markdown\n",
    "from dotenv import load_dotenv\n",
    "import os\n",
    "import openai\n",
    "\n",
    "load_dotenv()\n",
    "\n",
    "openai_client = openai.OpenAI()  # Inisialisasi klien baru\n",
    "\n",
    "MODEL_NAME = \"gpt-3.5-turbo\"\n",
    "\n",
    "def summarize_documents(documents):\n",
    "    summaries = []\n",
    "    for doc_index, doc_data in enumerate(documents):\n",
    "        if not doc_data or len(doc_data) < 4:\n",
    "            display(Markdown(f\"**Skipping document {doc_index} due to incomplete extraction.**\"))\n",
    "            continue\n",
    "        \n",
    "        content, _, _, _ = doc_data\n",
    "        full_text = \"\\n\".join(\n",
    "            \" \".join(map(str, page)) if isinstance(page, list) else str(page)\n",
    "            for page in content\n",
    "        ) if isinstance(content, list) else str(content)\n",
    "        \n",
    "        if not full_text.strip():\n",
    "            display(Markdown(f\"**Skipping document {doc_index} due to empty content.**\"))\n",
    "            continue\n",
    "        \n",
    "        response = openai_client.chat.completions.create(\n",
    "            model=MODEL_NAME,\n",
    "            messages=[\n",
    "                {\"role\": \"system\", \"content\": \"You are a helpful assistant for text summarization. Only include information that is part of the document. Do not include your own opinion or analysis.\"},\n",
    "                {\"role\": \"user\", \"content\": full_text}\n",
    "            ]\n",
    "        )\n",
    "        \n",
    "        summary = response.choices[0].message.content\n",
    "        summaries.append(summary)\n",
    "    \n",
    "    return summaries\n",
    "\n",
    "documents = load_documents()\n",
    "summaries = summarize_documents(documents)\n",
    "\n",
    "for summary in summaries:\n",
    "    display(Markdown(summary))\n"
   ]
  }
 ],
 "metadata": {
  "kernelspec": {
   "display_name": "Python 3",
   "language": "python",
   "name": "python3"
  },
  "language_info": {
   "codemirror_mode": {
    "name": "ipython",
    "version": 3
   },
   "file_extension": ".py",
   "mimetype": "text/x-python",
   "name": "python",
   "nbconvert_exporter": "python",
   "pygments_lexer": "ipython3",
   "version": "3.12.8"
  }
 },
 "nbformat": 4,
 "nbformat_minor": 2
}
